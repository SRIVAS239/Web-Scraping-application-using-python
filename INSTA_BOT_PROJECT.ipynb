{
 "cells": [
  {
   "cell_type": "code",
   "execution_count": 25,
   "metadata": {},
   "outputs": [],
   "source": [
    "#IMPORTING LIBRARIES \n",
    "from selenium import webdriver\n",
    "from selenium.webdriver.common.by import By\n",
    "from selenium.webdriver.support.ui import WebDriverWait\n",
    "from selenium.webdriver.support import expected_conditions as EC\n",
    "from selenium.webdriver.common.keys import Keys\n",
    "\n"
   ]
  },
  {
   "cell_type": "code",
   "execution_count": 28,
   "metadata": {},
   "outputs": [],
   "source": [
    "#1. FUNCTION TO LOGIN USING USERNAME AND PASSWORD\n",
    "def login(driver):\n",
    "    usernm=driver.find_element_by_name('username')\n",
    "    usernm.send_keys(\"SAMPLE USERNAME\")\n",
    "    pwd=driver.find_element_by_name('password')\n",
    "    pwd.send_keys(\"SAMPLE PASSWORD\")\n",
    "    \n",
    "    driver.implicitly_wait(2)\n",
    "\n",
    "    log_in=driver.find_element_by_css_selector('button[type=submit]')\n",
    "    log_in.click()\n",
    "\n",
    "    driver.implicitly_wait(10)\n"
   ]
  },
  {
   "cell_type": "code",
   "execution_count": 34,
   "metadata": {},
   "outputs": [],
   "source": [
    "#2. List of searches\n",
    "def searchList(searchtopic,driver):\n",
    "    searchB = WebDriverWait(driver, 10).until(\n",
    "       EC.element_to_be_clickable(\n",
    "           (By.XPATH,'//*[@id=\"react-root\"]/section/nav/div[2]/div/div/div[2]/input')\n",
    "       ) \n",
    "    )\n",
    "    searchB.clear()\n",
    "    searchB.send_keys(searchtopic)\n",
    "    driver.implicitly_wait(5)\n",
    "    srchList=driver.find_elements_by_class_name('z556c')\n",
    "    for item in srchList:\n",
    "        instaHandle=item.find_element_by_class_name('Ap253')\n",
    "        HandleName=instaHandle.text\n",
    "        if HandleName[0]=='#':\n",
    "            HandleName=HandleName[1:]\n",
    "        \n",
    "        print(HandleName)\n",
    "    "
   ]
  },
  {
   "cell_type": "code",
   "execution_count": 47,
   "metadata": {},
   "outputs": [],
   "source": [
    "#3. FUNCTION FOR SEARCHING AND OPENING A PROFILE\n",
    "def openProfile(HandleName,driver):\n",
    "    searchB = WebDriverWait(driver, 10).until(\n",
    "       EC.element_to_be_clickable(\n",
    "           (By.XPATH,'//*[@id=\"react-root\"]/section/nav/div[2]/div/div/div[2]/input')\n",
    "       ) \n",
    "    )\n",
    " #SEARCH BAR BY XPATH\n",
    "    searchB.clear()\n",
    "    searchB.send_keys(HandleName)\n",
    "    driver.implicitly_wait(5)\n",
    "    openProf=driver.find_element_by_class_name('yCE8d')\n",
    "    openProf.click()\n",
    "    "
   ]
  },
  {
   "cell_type": "code",
   "execution_count": 36,
   "metadata": {},
   "outputs": [],
   "source": [
    "#4.1 FOLLOWING A PROFILE\n",
    "def follow(handle,driver):\n",
    "    openProfile(handle,driver)\n",
    "    driver.implicitly_wait(10)\n",
    "    flw=driver.find_element_by_xpath('//*[@id=\"react-root\"]/section/main/div/header/section/div[1]/div[1]/div/div/div/span/span[1]/button')\n",
    "    \n",
    "    \n",
    "    msg=flw.text\n",
    "    \n",
    "    if msg==\"Follow\":\n",
    "        flw.click()\n",
    "    \n",
    "    else:\n",
    "        print(\"You already follow \"+ handle)\n",
    "   "
   ]
  },
  {
   "cell_type": "code",
   "execution_count": 43,
   "metadata": {},
   "outputs": [],
   "source": [
    "#4.2 UNFOLLOWING A PROFILE\n",
    "def unfollow(handle,driver):\n",
    "    openProfile(handle,driver)\n",
    "    driver.implicitly_wait(10)\n",
    "    flw=driver.find_element_by_xpath('//*[@id=\"react-root\"]/section/main/div/header/section/div[1]/div[1]/div/div/div/span/span[1]/button')\n",
    "    \n",
    "    \n",
    "    msg=flw.text\n",
    "    if msg==\"Follow\":\n",
    "        print(\"You have already unfollowed \" +handle )\n",
    "    \n",
    "    else:\n",
    "        flw.click()\n",
    "        driver.implicitly_wait(5)\n",
    "        unflw=driver.find_element_by_xpath('/html/body/div[5]/div/div/div/div[3]/button[1]')\n",
    "        unflw.click()"
   ]
  },
  {
   "cell_type": "code",
   "execution_count": 58,
   "metadata": {},
   "outputs": [],
   "source": [
    "#5.1 LIKING TOP 30 POSTS\n",
    "def liking(Handle,driver):\n",
    "    openProfile(Handle,driver)\n"
   ]
  },
  {
   "cell_type": "code",
   "execution_count": 29,
   "metadata": {},
   "outputs": [],
   "source": [
    "\n",
    "def extractFollowersList(n,driver,handle):\n",
    "    openProfile(handle,driver)\n",
    "    driver.implicitly_wait(5)\n",
    "    #foll=driver.find_element_by_partial_link_text(\"followers\")\n",
    "    foll = WebDriverWait(driver, 10).until(\n",
    "       EC.element_to_be_clickable(\n",
    "           (By.XPATH,'//*[@id=\"react-root\"]/section/main/div/header/section/ul/li[2]/a')\n",
    "       ) \n",
    "    )\n",
    "    #foll.click()"
   ]
  },
  {
   "cell_type": "code",
   "execution_count": 59,
   "metadata": {},
   "outputs": [
    {
     "name": "stdout",
     "output_type": "stream",
     "text": [
      "1\n"
     ]
    }
   ],
   "source": [
    "#getting our driver object\n",
    "driver = webdriver.Chrome(executable_path = 'C:\\Program Files (x86)\\chromedriver.exe')\n",
    "driver.get('https://www.instagram.com/accounts/login/')\n",
    "driver.implicitly_wait(8)\n",
    "\n",
    "login(driver)\n",
    "\n",
    "#searchList(\"food\",driver)\n",
    "\n",
    "#openProfile(\"So Delhi\",driver)\n",
    "\n",
    "#follow(\"So Delhi\",driver)\n",
    "\n",
    "#unfollow(\"So Delhi\",driver)\n",
    "\n",
    "#liking(\"catanacomics\",driver)\n",
    "\n",
    "#extractFollowersList(30,driver,\"foodtalkindia\")\n"
   ]
  },
  {
   "cell_type": "code",
   "execution_count": null,
   "metadata": {},
   "outputs": [],
   "source": []
  }
 ],
 "metadata": {
  "kernelspec": {
   "display_name": "Python 3",
   "language": "python",
   "name": "python3"
  },
  "language_info": {
   "codemirror_mode": {
    "name": "ipython",
    "version": 3
   },
   "file_extension": ".py",
   "mimetype": "text/x-python",
   "name": "python",
   "nbconvert_exporter": "python",
   "pygments_lexer": "ipython3",
   "version": "3.7.4"
  }
 },
 "nbformat": 4,
 "nbformat_minor": 2
}
